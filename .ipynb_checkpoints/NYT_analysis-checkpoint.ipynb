{
 "cells": [
  {
   "cell_type": "code",
   "execution_count": 1,
   "metadata": {},
   "outputs": [],
   "source": [
    "import requests\n",
    "import pandas as pd\n",
    "import numpy as np\n",
    "\n",
    "def get_date(string):\n",
    "    return \"\".join(list(string)[:7])\n",
    "\n",
    "# Import headlines from NYT\n",
    "def get_headlines(year, month, printed=False):\n",
    "    my_key = \"my_key\"\n",
    "    base_url = 'https://api.nytimes.com/svc/archive/v1/{}/{}.json?api-key='.format(year, month)\n",
    "    r = requests.get(base_url+my_key)\n",
    "    r = r.json()['response']\n",
    "    all_material = r['docs']\n",
    "    headlines_list = [element for element in all_material \n",
    "                      if ('type_of_material' in element.keys()) and (element['type_of_material']=='News') and \n",
    "                         (type(element['headline']) is dict)]\n",
    "    \n",
    "    if printed:\n",
    "        titles = pd.DataFrame(columns=['Web Head', 'Print Head'])\n",
    "        for headline in headlines_list:\n",
    "            if 'main'and'print_headline' in headline['headline'].keys():\n",
    "                    titles = titles.append({'Web Head': headline['headline']['main'], \n",
    "                                            'Print Head': headline['headline']['print_headline']}, \n",
    "                                           ignore_index=True)\n",
    "        return titles.drop_duplicates()\n",
    "    \n",
    "    else:\n",
    "        titles = [headline['headline']['main'] for headline in headlines_list \n",
    "                  if 'main' in headline['headline'].keys()]\n",
    "        return np.unique(titles)"
   ]
  },
  {
   "cell_type": "markdown",
   "metadata": {},
   "source": [
    "#### Load the clickbait filter and the preprocessing functions"
   ]
  },
  {
   "cell_type": "code",
   "execution_count": 2,
   "metadata": {},
   "outputs": [
    {
     "name": "stdout",
     "output_type": "stream",
     "text": [
      "Dictionary loaded.\n"
     ]
    }
   ],
   "source": [
    "from joblib import load\n",
    "from preprocessing import DigitalizeTitle, most_common_words\n",
    "\n",
    "# Load the trained classifier\n",
    "clckbt_clf = load('trained_clf_v2.joblib')\n",
    "\n",
    "# Load the class to preprocess mails\n",
    "clckbt_words_count = most_common_words(n_words=200, txt_file='vocabularies/lem_clckbt_words.txt')\n",
    "prepare_headlines = DigitalizeTitle(clckbt_dict=clckbt_words_count, options=[True]*4)"
   ]
  },
  {
   "cell_type": "markdown",
   "metadata": {},
   "source": [
    "## 1. Check the filter works"
   ]
  },
  {
   "cell_type": "code",
   "execution_count": 3,
   "metadata": {},
   "outputs": [
    {
     "name": "stdout",
     "output_type": "stream",
     "text": [
      "Collected titles from 2008\n",
      "Collected titles from 2009\n",
      "Collected titles from 2010\n",
      "Collected titles from 2011\n",
      "Collected titles from 2012\n",
      "Collected titles from 2013\n",
      "Collected titles from 2014\n",
      "Collected titles from 2015\n",
      "Collected titles from 2016\n",
      "Collected titles from 2017\n",
      "Collected titles from 2018\n",
      "Collected titles from 2019\n"
     ]
    }
   ],
   "source": [
    "from time import sleep\n",
    "\n",
    "news_df = pd.DataFrame(columns=['Headline', 'Year'])\n",
    "\n",
    "for year in range(2008, 2020):\n",
    "    news = get_headlines(year, 3)\n",
    "    df = pd.DataFrame({'Headline': news, 'Year': year*np.ones(len(news))})\n",
    "    news_df = news_df.append(df, ignore_index=True)\n",
    "    sleep(.5)\n",
    "    print('Collected titles from {}'.format(year))\n",
    "\n",
    "news_df['Year'] = news_df['Year'].astype(np.int32)   "
   ]
  },
  {
   "cell_type": "code",
   "execution_count": 4,
   "metadata": {},
   "outputs": [],
   "source": [
    "X_prep = prepare_headlines.transform(news_df['Headline'])\n",
    "y_proba = clckbt_clf.predict_proba(X_prep)[:,1]\n",
    "news_df['Proba'] = y_proba"
   ]
  },
  {
   "cell_type": "code",
   "execution_count": 5,
   "metadata": {
    "scrolled": true
   },
   "outputs": [
    {
     "data": {
      "text/html": [
       "<div>\n",
       "<style scoped>\n",
       "    .dataframe tbody tr th:only-of-type {\n",
       "        vertical-align: middle;\n",
       "    }\n",
       "\n",
       "    .dataframe tbody tr th {\n",
       "        vertical-align: top;\n",
       "    }\n",
       "\n",
       "    .dataframe thead th {\n",
       "        text-align: right;\n",
       "    }\n",
       "</style>\n",
       "<table border=\"1\" class=\"dataframe\">\n",
       "  <thead>\n",
       "    <tr style=\"text-align: right;\">\n",
       "      <th></th>\n",
       "      <th>Headline</th>\n",
       "      <th>Year</th>\n",
       "      <th>Proba</th>\n",
       "    </tr>\n",
       "  </thead>\n",
       "  <tbody>\n",
       "    <tr>\n",
       "      <td>0</td>\n",
       "      <td>$2 Million Bail Set for Woman in Brothel Case</td>\n",
       "      <td>2008</td>\n",
       "      <td>0.323829</td>\n",
       "    </tr>\n",
       "    <tr>\n",
       "      <td>1</td>\n",
       "      <td>$250 Million Settlement Over Asbestos Is Announced</td>\n",
       "      <td>2008</td>\n",
       "      <td>0.713152</td>\n",
       "    </tr>\n",
       "    <tr>\n",
       "      <td>2</td>\n",
       "      <td>'Audacity To Hope' For What We Can Achieve</td>\n",
       "      <td>2008</td>\n",
       "      <td>0.595888</td>\n",
       "    </tr>\n",
       "    <tr>\n",
       "      <td>3</td>\n",
       "      <td>'Battlestar Galactica' Prequel Announced</td>\n",
       "      <td>2008</td>\n",
       "      <td>0.252392</td>\n",
       "    </tr>\n",
       "    <tr>\n",
       "      <td>4</td>\n",
       "      <td>'JUNIE B. JONES'</td>\n",
       "      <td>2008</td>\n",
       "      <td>0.235973</td>\n",
       "    </tr>\n",
       "  </tbody>\n",
       "</table>\n",
       "</div>"
      ],
      "text/plain": [
       "                                             Headline  Year     Proba\n",
       "0  $2 Million Bail Set for Woman in Brothel Case       2008  0.323829\n",
       "1  $250 Million Settlement Over Asbestos Is Announced  2008  0.713152\n",
       "2  'Audacity To Hope' For What We Can Achieve          2008  0.595888\n",
       "3  'Battlestar Galactica' Prequel Announced            2008  0.252392\n",
       "4  'JUNIE B. JONES'                                    2008  0.235973"
      ]
     },
     "execution_count": 5,
     "metadata": {},
     "output_type": "execute_result"
    }
   ],
   "source": [
    "pd.set_option('display.max_colwidth', -1)\n",
    "news_df.head()"
   ]
  },
  {
   "cell_type": "markdown",
   "metadata": {},
   "source": [
    "Clickbait headlines"
   ]
  },
  {
   "cell_type": "code",
   "execution_count": 6,
   "metadata": {},
   "outputs": [
    {
     "data": {
      "text/html": [
       "<div>\n",
       "<style scoped>\n",
       "    .dataframe tbody tr th:only-of-type {\n",
       "        vertical-align: middle;\n",
       "    }\n",
       "\n",
       "    .dataframe tbody tr th {\n",
       "        vertical-align: top;\n",
       "    }\n",
       "\n",
       "    .dataframe thead th {\n",
       "        text-align: right;\n",
       "    }\n",
       "</style>\n",
       "<table border=\"1\" class=\"dataframe\">\n",
       "  <thead>\n",
       "    <tr style=\"text-align: right;\">\n",
       "      <th></th>\n",
       "      <th>Headline</th>\n",
       "      <th>Year</th>\n",
       "      <th>Proba</th>\n",
       "    </tr>\n",
       "  </thead>\n",
       "  <tbody>\n",
       "    <tr>\n",
       "      <td>31699</td>\n",
       "      <td>7 Spring Fashion Looks That Will Make You Want to Dance</td>\n",
       "      <td>2016</td>\n",
       "      <td>0.984169</td>\n",
       "    </tr>\n",
       "    <tr>\n",
       "      <td>44415</td>\n",
       "      <td>‘10 Things I Hate About You’: When Heath Ledger Was Just Breaking Through</td>\n",
       "      <td>2019</td>\n",
       "      <td>0.981957</td>\n",
       "    </tr>\n",
       "    <tr>\n",
       "      <td>38978</td>\n",
       "      <td>5 Cheap(ish) Things That Will Keep You Entertained for Hours</td>\n",
       "      <td>2018</td>\n",
       "      <td>0.981530</td>\n",
       "    </tr>\n",
       "    <tr>\n",
       "      <td>26885</td>\n",
       "      <td>One of These Frogs Is Extremely Dangerous</td>\n",
       "      <td>2014</td>\n",
       "      <td>0.979554</td>\n",
       "    </tr>\n",
       "    <tr>\n",
       "      <td>47</td>\n",
       "      <td>3 Contenders and an Icon Who’s Not Named Bonds</td>\n",
       "      <td>2008</td>\n",
       "      <td>0.978770</td>\n",
       "    </tr>\n",
       "  </tbody>\n",
       "</table>\n",
       "</div>"
      ],
      "text/plain": [
       "                                                                        Headline  \\\n",
       "31699  7 Spring Fashion Looks That Will Make You Want to Dance                     \n",
       "44415  ‘10 Things I Hate About You’: When Heath Ledger Was Just Breaking Through   \n",
       "38978  5 Cheap(ish) Things That Will Keep You Entertained for Hours                \n",
       "26885  One of These Frogs Is Extremely Dangerous                                   \n",
       "47     3 Contenders and an Icon Who’s Not Named Bonds                              \n",
       "\n",
       "       Year     Proba  \n",
       "31699  2016  0.984169  \n",
       "44415  2019  0.981957  \n",
       "38978  2018  0.981530  \n",
       "26885  2014  0.979554  \n",
       "47     2008  0.978770  "
      ]
     },
     "execution_count": 6,
     "metadata": {},
     "output_type": "execute_result"
    }
   ],
   "source": [
    "news_df.sort_values('Proba', ascending=False)[:5]"
   ]
  },
  {
   "cell_type": "markdown",
   "metadata": {},
   "source": [
    "Non clickbait headline"
   ]
  },
  {
   "cell_type": "code",
   "execution_count": 7,
   "metadata": {},
   "outputs": [
    {
     "data": {
      "text/html": [
       "<div>\n",
       "<style scoped>\n",
       "    .dataframe tbody tr th:only-of-type {\n",
       "        vertical-align: middle;\n",
       "    }\n",
       "\n",
       "    .dataframe tbody tr th {\n",
       "        vertical-align: top;\n",
       "    }\n",
       "\n",
       "    .dataframe thead th {\n",
       "        text-align: right;\n",
       "    }\n",
       "</style>\n",
       "<table border=\"1\" class=\"dataframe\">\n",
       "  <thead>\n",
       "    <tr style=\"text-align: right;\">\n",
       "      <th></th>\n",
       "      <th>Headline</th>\n",
       "      <th>Year</th>\n",
       "      <th>Proba</th>\n",
       "    </tr>\n",
       "  </thead>\n",
       "  <tbody>\n",
       "    <tr>\n",
       "      <td>44093</td>\n",
       "      <td>Two U.S. Service Members Killed in Northern Afghanistan</td>\n",
       "      <td>2019</td>\n",
       "      <td>0.063212</td>\n",
       "    </tr>\n",
       "    <tr>\n",
       "      <td>9328</td>\n",
       "      <td>10 Mexican Students Killed in Another Violent Weekend</td>\n",
       "      <td>2010</td>\n",
       "      <td>0.089796</td>\n",
       "    </tr>\n",
       "    <tr>\n",
       "      <td>4015</td>\n",
       "      <td>The Case for Fitting In</td>\n",
       "      <td>2008</td>\n",
       "      <td>0.104934</td>\n",
       "    </tr>\n",
       "    <tr>\n",
       "      <td>38779</td>\n",
       "      <td>Working Longer May Benefit Your Health</td>\n",
       "      <td>2017</td>\n",
       "      <td>0.111289</td>\n",
       "    </tr>\n",
       "    <tr>\n",
       "      <td>27613</td>\n",
       "      <td>The Wildebeest in the Room</td>\n",
       "      <td>2014</td>\n",
       "      <td>0.112920</td>\n",
       "    </tr>\n",
       "  </tbody>\n",
       "</table>\n",
       "</div>"
      ],
      "text/plain": [
       "                                                      Headline  Year     Proba\n",
       "44093  Two U.S. Service Members Killed in Northern Afghanistan  2019  0.063212\n",
       "9328   10 Mexican Students Killed in Another Violent Weekend    2010  0.089796\n",
       "4015   The Case for Fitting In                                  2008  0.104934\n",
       "38779  Working Longer May Benefit Your Health                   2017  0.111289\n",
       "27613  The Wildebeest in the Room                               2014  0.112920"
      ]
     },
     "execution_count": 7,
     "metadata": {},
     "output_type": "execute_result"
    }
   ],
   "source": [
    "news_df.sort_values('Proba', ascending=True)[:5]"
   ]
  },
  {
   "cell_type": "markdown",
   "metadata": {},
   "source": [
    "## 2. Clickbait over time"
   ]
  },
  {
   "cell_type": "code",
   "execution_count": 8,
   "metadata": {},
   "outputs": [],
   "source": [
    "def compute_clckbt_ratio(clf, year, month):\n",
    "    global prepare_headlines\n",
    "    dataset = get_headlines(year, month)\n",
    "    dataset_prepared = prepare_headlines.transform(dataset)\n",
    "    clckbt_number = clf.predict(dataset_prepared).sum()\n",
    "    return np.round(clckbt_number/len(dataset), 2)"
   ]
  },
  {
   "cell_type": "code",
   "execution_count": 9,
   "metadata": {
    "scrolled": false
   },
   "outputs": [
    {
     "name": "stdout",
     "output_type": "stream",
     "text": [
      "Computed the year 2008\n",
      "Computed the year 2009\n",
      "Computed the year 2010\n",
      "Computed the year 2011\n",
      "Computed the year 2012\n",
      "Computed the year 2013\n",
      "Computed the year 2014\n",
      "Computed the year 2015\n",
      "Computed the year 2016\n",
      "Computed the year 2017\n",
      "Computed the year 2018\n",
      "Computed the year 2019\n",
      "Saved on NYT_clckbt_ratio\n"
     ]
    }
   ],
   "source": [
    "from utilities import save_on_txt\n",
    "\n",
    "clckbt_ratio_vs_time = []\n",
    "\n",
    "for year in range(2008, 2020):\n",
    "    for month in range(1, 13):\n",
    "        ratio = compute_clckbt_ratio(clckbt_clf, year, month)\n",
    "        date = '-'.join([str(year), str(month)])\n",
    "        clckbt_ratio_vs_time.append((date, ratio))\n",
    "    print('Computed the year {}'.format(year))\n",
    "\n",
    "save_on_txt('NYT_clckbt_ratio', clckbt_ratio_vs_time)"
   ]
  },
  {
   "cell_type": "code",
   "execution_count": 10,
   "metadata": {},
   "outputs": [],
   "source": [
    "from datetime import datetime\n",
    "from dateutil.parser import parse\n",
    "\n",
    "def load_txt(filename):\n",
    "    dates, ratios = [], []\n",
    "    file = open(filename, \"r\") \n",
    "    for line in file.readlines():\n",
    "        date, ratio = line.split()\n",
    "        dates.append(parse(date))\n",
    "        ratios.append(float(ratio))\n",
    "    return dates, ratios\n",
    "\n",
    "dates, ratios = load_txt(\"NYT_clckbt_ratio.txt\")\n",
    "clckbt_ratios = pd.Series(ratios, index=dates)"
   ]
  },
  {
   "cell_type": "code",
   "execution_count": 11,
   "metadata": {},
   "outputs": [
    {
     "name": "stdout",
     "output_type": "stream",
     "text": [
      "Saving figure clckbt_ratio_VS_time\n"
     ]
    },
    {
     "data": {
      "image/png": "[encoded data removed]",
      "text/plain": [
       "<Figure size 1080x360 with 1 Axes>"
      ]
     },
     "metadata": {
      "needs_background": "light"
     },
     "output_type": "display_data"
    }
   ],
   "source": [
    "%matplotlib inline\n",
    "\n",
    "import matplotlib.pyplot as plt\n",
    "import matplotlib.dates as mdates\n",
    "from utilities import save_fig\n",
    "\n",
    "rolling = clckbt_ratios.rolling(window=5)\n",
    "rolling_mean = rolling.mean()\n",
    "\n",
    "fig = plt.figure(figsize=(15,5))\n",
    "ax = clckbt_ratios.loc['2008-5':].plot(linestyle = '-.' ,\n",
    "                                       yticks=[x/100 for x in range(0, 30, 5)], \n",
    "                                       title='Clickbait ratio')\n",
    "\n",
    "ax.xaxis.set_major_locator(mdates.YearLocator())\n",
    "ax.xaxis.set_major_formatter(mdates.DateFormatter('%Y'))\n",
    "\n",
    "rolling_mean.plot(color='red')\n",
    "ax.set_xlim(733185, 737421)\n",
    "save_fig('clckbt_ratio_VS_time')\n",
    "plt.show()"
   ]
  },
  {
   "cell_type": "markdown",
   "metadata": {},
   "source": [
    "## 3. Clickbait in the printed version"
   ]
  },
  {
   "cell_type": "code",
   "execution_count": 12,
   "metadata": {},
   "outputs": [
    {
     "name": "stdout",
     "output_type": "stream",
     "text": [
      "Collected titles from 2008\n",
      "Collected titles from 2009\n",
      "Collected titles from 2010\n",
      "Collected titles from 2011\n",
      "Collected titles from 2012\n",
      "Collected titles from 2013\n",
      "Collected titles from 2014\n",
      "Collected titles from 2015\n",
      "Collected titles from 2016\n",
      "Collected titles from 2017\n",
      "Collected titles from 2018\n",
      "Collected titles from 2019\n"
     ]
    }
   ],
   "source": [
    "from time import sleep\n",
    "\n",
    "news_web_print_df = pd.DataFrame(columns=['Web Head', 'Print Head', 'Year'])\n",
    "\n",
    "for year in range(2008, 2020):\n",
    "    for month in range(1, 13):\n",
    "        news = get_headlines(year, month, True)\n",
    "        df = pd.DataFrame({'Web Head': news['Web Head'],\n",
    "                           'Print Head': news['Print Head'],\n",
    "                           'Year': year*np.ones(len(news))})\n",
    "        news_web_print_df = news_web_print_df.append(df, ignore_index=True)\n",
    "        sleep(.5)\n",
    "    print('Collected titles from {}'.format(year))\n",
    "\n",
    "# year as int\n",
    "news_web_print_df['Year'] = news_web_print_df['Year'].astype(np.int32)\n",
    "# drop na values\n",
    "news_web_print_df = news_web_print_df.replace('', np.nan).dropna()\n",
    "news_web_print_df = news_web_print_df.drop(index=[362455])\n",
    "#drop empty string"
   ]
  },
  {
   "cell_type": "code",
   "execution_count": 13,
   "metadata": {},
   "outputs": [
    {
     "data": {
      "text/html": [
       "<div>\n",
       "<style scoped>\n",
       "    .dataframe tbody tr th:only-of-type {\n",
       "        vertical-align: middle;\n",
       "    }\n",
       "\n",
       "    .dataframe tbody tr th {\n",
       "        vertical-align: top;\n",
       "    }\n",
       "\n",
       "    .dataframe thead th {\n",
       "        text-align: right;\n",
       "    }\n",
       "</style>\n",
       "<table border=\"1\" class=\"dataframe\">\n",
       "  <thead>\n",
       "    <tr style=\"text-align: right;\">\n",
       "      <th></th>\n",
       "      <th>Web Head</th>\n",
       "      <th>Print Head</th>\n",
       "      <th>Year</th>\n",
       "    </tr>\n",
       "  </thead>\n",
       "  <tbody>\n",
       "    <tr>\n",
       "      <td>0</td>\n",
       "      <td>No Picky Eaters Among Successful Argentine Ants</td>\n",
       "      <td>No Picky Eaters Among Successful Argentine Ants</td>\n",
       "      <td>2008</td>\n",
       "    </tr>\n",
       "    <tr>\n",
       "      <td>1</td>\n",
       "      <td>A Slippery Slope Is the Secret Weapon of Some Pitcher Plants</td>\n",
       "      <td>A Slippery Slope Is the Secret Weapon Of Some Pitcher Plants</td>\n",
       "      <td>2008</td>\n",
       "    </tr>\n",
       "    <tr>\n",
       "      <td>2</td>\n",
       "      <td>Recognizing Stripes, Not Faces, Software Tracks Whale Sharks</td>\n",
       "      <td>Recognizing Stripes, Not Faces, Software Tracks Whale Sharks</td>\n",
       "      <td>2008</td>\n",
       "    </tr>\n",
       "    <tr>\n",
       "      <td>3</td>\n",
       "      <td>In 2008, a 100 Percent Chance of Alarm</td>\n",
       "      <td>In 2008, a 100 Percent Chance of Alarm</td>\n",
       "      <td>2008</td>\n",
       "    </tr>\n",
       "    <tr>\n",
       "      <td>4</td>\n",
       "      <td>3 Different Candidates, 3 Distinct Faces of the G.O.P.</td>\n",
       "      <td>3 Different Candidates, 3 Distinct Faces of the G.O.P.</td>\n",
       "      <td>2008</td>\n",
       "    </tr>\n",
       "  </tbody>\n",
       "</table>\n",
       "</div>"
      ],
      "text/plain": [
       "                                                       Web Head  \\\n",
       "0  No Picky Eaters Among Successful Argentine Ants                \n",
       "1  A Slippery Slope Is the Secret Weapon of Some Pitcher Plants   \n",
       "2  Recognizing Stripes, Not Faces, Software Tracks Whale Sharks   \n",
       "3  In 2008, a 100 Percent Chance of Alarm                         \n",
       "4  3 Different Candidates, 3 Distinct Faces of the G.O.P.         \n",
       "\n",
       "                                                     Print Head  Year  \n",
       "0  No Picky Eaters Among Successful Argentine Ants               2008  \n",
       "1  A Slippery Slope Is the Secret Weapon Of Some Pitcher Plants  2008  \n",
       "2  Recognizing Stripes, Not Faces, Software Tracks Whale Sharks  2008  \n",
       "3  In 2008, a 100 Percent Chance of Alarm                        2008  \n",
       "4  3 Different Candidates, 3 Distinct Faces of the G.O.P.        2008  "
      ]
     },
     "execution_count": 13,
     "metadata": {},
     "output_type": "execute_result"
    }
   ],
   "source": [
    "news_web_print_df.head()"
   ]
  },
  {
   "cell_type": "code",
   "execution_count": 14,
   "metadata": {},
   "outputs": [
    {
     "data": {
      "text/html": [
       "<div>\n",
       "<style scoped>\n",
       "    .dataframe tbody tr th:only-of-type {\n",
       "        vertical-align: middle;\n",
       "    }\n",
       "\n",
       "    .dataframe tbody tr th {\n",
       "        vertical-align: top;\n",
       "    }\n",
       "\n",
       "    .dataframe thead th {\n",
       "        text-align: right;\n",
       "    }\n",
       "</style>\n",
       "<table border=\"1\" class=\"dataframe\">\n",
       "  <thead>\n",
       "    <tr style=\"text-align: right;\">\n",
       "      <th></th>\n",
       "      <th>Web Head</th>\n",
       "      <th>Web Proba</th>\n",
       "      <th>Print Head</th>\n",
       "      <th>Print Proba</th>\n",
       "      <th>Year</th>\n",
       "    </tr>\n",
       "  </thead>\n",
       "  <tbody>\n",
       "    <tr>\n",
       "      <td>0</td>\n",
       "      <td>No Picky Eaters Among Successful Argentine Ants</td>\n",
       "      <td>0.183838</td>\n",
       "      <td>No Picky Eaters Among Successful Argentine Ants</td>\n",
       "      <td>0.183838</td>\n",
       "      <td>2008</td>\n",
       "    </tr>\n",
       "    <tr>\n",
       "      <td>1</td>\n",
       "      <td>A Slippery Slope Is the Secret Weapon of Some Pitcher Plants</td>\n",
       "      <td>0.476969</td>\n",
       "      <td>A Slippery Slope Is the Secret Weapon Of Some Pitcher Plants</td>\n",
       "      <td>0.476969</td>\n",
       "      <td>2008</td>\n",
       "    </tr>\n",
       "    <tr>\n",
       "      <td>2</td>\n",
       "      <td>Recognizing Stripes, Not Faces, Software Tracks Whale Sharks</td>\n",
       "      <td>0.241371</td>\n",
       "      <td>Recognizing Stripes, Not Faces, Software Tracks Whale Sharks</td>\n",
       "      <td>0.241371</td>\n",
       "      <td>2008</td>\n",
       "    </tr>\n",
       "    <tr>\n",
       "      <td>3</td>\n",
       "      <td>In 2008, a 100 Percent Chance of Alarm</td>\n",
       "      <td>0.514033</td>\n",
       "      <td>In 2008, a 100 Percent Chance of Alarm</td>\n",
       "      <td>0.514033</td>\n",
       "      <td>2008</td>\n",
       "    </tr>\n",
       "    <tr>\n",
       "      <td>4</td>\n",
       "      <td>3 Different Candidates, 3 Distinct Faces of the G.O.P.</td>\n",
       "      <td>0.741965</td>\n",
       "      <td>3 Different Candidates, 3 Distinct Faces of the G.O.P.</td>\n",
       "      <td>0.741965</td>\n",
       "      <td>2008</td>\n",
       "    </tr>\n",
       "  </tbody>\n",
       "</table>\n",
       "</div>"
      ],
      "text/plain": [
       "                                                       Web Head  Web Proba  \\\n",
       "0  No Picky Eaters Among Successful Argentine Ants               0.183838    \n",
       "1  A Slippery Slope Is the Secret Weapon of Some Pitcher Plants  0.476969    \n",
       "2  Recognizing Stripes, Not Faces, Software Tracks Whale Sharks  0.241371    \n",
       "3  In 2008, a 100 Percent Chance of Alarm                        0.514033    \n",
       "4  3 Different Candidates, 3 Distinct Faces of the G.O.P.        0.741965    \n",
       "\n",
       "                                                     Print Head  Print Proba  \\\n",
       "0  No Picky Eaters Among Successful Argentine Ants               0.183838      \n",
       "1  A Slippery Slope Is the Secret Weapon Of Some Pitcher Plants  0.476969      \n",
       "2  Recognizing Stripes, Not Faces, Software Tracks Whale Sharks  0.241371      \n",
       "3  In 2008, a 100 Percent Chance of Alarm                        0.514033      \n",
       "4  3 Different Candidates, 3 Distinct Faces of the G.O.P.        0.741965      \n",
       "\n",
       "   Year  \n",
       "0  2008  \n",
       "1  2008  \n",
       "2  2008  \n",
       "3  2008  \n",
       "4  2008  "
      ]
     },
     "execution_count": 14,
     "metadata": {},
     "output_type": "execute_result"
    }
   ],
   "source": [
    "web_prepared = prepare_headlines.transform(news_web_print_df['Web Head'])\n",
    "print_prepared = prepare_headlines.transform(news_web_print_df['Print Head'])\n",
    "\n",
    "y_web = clckbt_clf.predict_proba(web_prepared)[:,1]\n",
    "y_print = clckbt_clf.predict_proba(print_prepared)[:,1]\n",
    "\n",
    "news_web_print_df.insert(1, 'Web Proba', y_web)\n",
    "news_web_print_df.insert(3, 'Print Proba', y_print)\n",
    "news_web_print_df.head()"
   ]
  },
  {
   "cell_type": "code",
   "execution_count": 15,
   "metadata": {},
   "outputs": [
    {
     "data": {
      "text/html": [
       "<div>\n",
       "<style scoped>\n",
       "    .dataframe tbody tr th:only-of-type {\n",
       "        vertical-align: middle;\n",
       "    }\n",
       "\n",
       "    .dataframe tbody tr th {\n",
       "        vertical-align: top;\n",
       "    }\n",
       "\n",
       "    .dataframe thead th {\n",
       "        text-align: right;\n",
       "    }\n",
       "</style>\n",
       "<table border=\"1\" class=\"dataframe\">\n",
       "  <thead>\n",
       "    <tr style=\"text-align: right;\">\n",
       "      <th></th>\n",
       "      <th>Web Head</th>\n",
       "      <th>Web Proba</th>\n",
       "      <th>Print Head</th>\n",
       "      <th>Print Proba</th>\n",
       "      <th>Year</th>\n",
       "    </tr>\n",
       "  </thead>\n",
       "  <tbody>\n",
       "    <tr>\n",
       "      <td>191430</td>\n",
       "      <td>What Brand Is Your Therapist?</td>\n",
       "      <td>0.984439</td>\n",
       "      <td>The Branding Cure</td>\n",
       "      <td>0.225222</td>\n",
       "      <td>2012</td>\n",
       "    </tr>\n",
       "    <tr>\n",
       "      <td>307570</td>\n",
       "      <td>7 Spring Fashion Looks That Will Make You Want to Dance</td>\n",
       "      <td>0.984169</td>\n",
       "      <td>Come Out to Play</td>\n",
       "      <td>0.248853</td>\n",
       "      <td>2016</td>\n",
       "    </tr>\n",
       "    <tr>\n",
       "      <td>399735</td>\n",
       "      <td>Three French Novels You Should Read</td>\n",
       "      <td>0.983821</td>\n",
       "      <td>French Fiction</td>\n",
       "      <td>0.274435</td>\n",
       "      <td>2018</td>\n",
       "    </tr>\n",
       "    <tr>\n",
       "      <td>389642</td>\n",
       "      <td>5 Minutes That Will Make You Love Classical Music</td>\n",
       "      <td>0.983617</td>\n",
       "      <td>A Love Affair. The Classical Music Kind.</td>\n",
       "      <td>0.286683</td>\n",
       "      <td>2018</td>\n",
       "    </tr>\n",
       "    <tr>\n",
       "      <td>378289</td>\n",
       "      <td>Three Literary Critics Who Engage With Their Subjects, Unconventionally</td>\n",
       "      <td>0.983119</td>\n",
       "      <td>Hybrid Criticism</td>\n",
       "      <td>0.274435</td>\n",
       "      <td>2018</td>\n",
       "    </tr>\n",
       "  </tbody>\n",
       "</table>\n",
       "</div>"
      ],
      "text/plain": [
       "                                                                       Web Head  \\\n",
       "191430  What Brand Is Your Therapist?                                             \n",
       "307570  7 Spring Fashion Looks That Will Make You Want to Dance                   \n",
       "399735  Three French Novels You Should Read                                       \n",
       "389642  5 Minutes That Will Make You Love Classical Music                         \n",
       "378289  Three Literary Critics Who Engage With Their Subjects, Unconventionally   \n",
       "\n",
       "        Web Proba                                Print Head  Print Proba  Year  \n",
       "191430  0.984439   The Branding Cure                         0.225222     2012  \n",
       "307570  0.984169   Come Out to Play                          0.248853     2016  \n",
       "399735  0.983821   French Fiction                            0.274435     2018  \n",
       "389642  0.983617   A Love Affair. The Classical Music Kind.  0.286683     2018  \n",
       "378289  0.983119   Hybrid Criticism                          0.274435     2018  "
      ]
     },
     "execution_count": 15,
     "metadata": {},
     "output_type": "execute_result"
    }
   ],
   "source": [
    "web_clckbt = news_web_print_df['Web Proba']>.5\n",
    "print_no_clckbt = news_web_print_df['Print Proba']<.5\n",
    "\n",
    "web_vs_print = news_web_print_df[web_clckbt & print_no_clckbt].sort_values('Web Proba', ascending=False)\n",
    "web_vs_print.iloc[:5]"
   ]
  }
 ],
 "metadata": {
  "kernelspec": {
   "display_name": "Python 3",
   "language": "python",
   "name": "python3"
  },
  "language_info": {
   "codemirror_mode": {
    "name": "ipython",
    "version": 3
   },
   "file_extension": ".py",
   "mimetype": "text/x-python",
   "name": "python",
   "nbconvert_exporter": "python",
   "pygments_lexer": "ipython3",
   "version": "3.7.3"
  }
 },
 "nbformat": 4,
 "nbformat_minor": 2
}
