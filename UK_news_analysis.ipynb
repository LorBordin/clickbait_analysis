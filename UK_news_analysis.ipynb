{
 "cells": [
  {
   "cell_type": "code",
   "execution_count": 1,
   "metadata": {},
   "outputs": [],
   "source": [
    "import numpy as np\n",
    "import pandas as pd\n",
    "import glob\n",
    "\n",
    "journals_list = ['the_guardian', 'dailymail', 'bbc_news', 'the_telegraph']"
   ]
  },
  {
   "cell_type": "markdown",
   "metadata": {},
   "source": [
    "Import Headlines"
   ]
  },
  {
   "cell_type": "code",
   "execution_count": 2,
   "metadata": {},
   "outputs": [],
   "source": [
    "## Strip all the newlines and set letters lowercase\n",
    "def strip_title(title):\n",
    "    words = [word.strip().lower() for word in title.split()]   \n",
    "    return \" \".join(words)\n",
    "\n",
    "## Load headlines into a Dataframe\n",
    "def load_headlines_from_journal(journal_name):\n",
    "    \n",
    "    if journal_name == 'the_guardian':\n",
    "        df = pd.DataFrame()\n",
    "        for file in glob.glob('webpage_scraping/archive/'+journals_list[0]+'*'):\n",
    "            df_read = pd.read_csv(file)\n",
    "            df = pd.concat([df, df_read],sort=False, ignore_index=True)\n",
    "        del df['Unnamed: 0']\n",
    "    \n",
    "    else:\n",
    "        df = pd.DataFrame({'Title':[]})\n",
    "        for file in glob.glob('webpage_scraping/archive/'+journal_name+'*'):\n",
    "            df_read = pd.read_csv(file, names=['Title'], skiprows=[0])\n",
    "            df = pd.concat([df, df_read],sort=False, ignore_index=True)\n",
    "    \n",
    "    df[df.isna()] = ' '\n",
    "    for col in df.columns:\n",
    "        df[col] = df[col].apply(lambda x: strip_title(x)) \n",
    "    df = df.drop_duplicates()\n",
    "    return df"
   ]
  },
  {
   "cell_type": "markdown",
   "metadata": {},
   "source": [
    "### Import the headlines "
   ]
  },
  {
   "cell_type": "code",
   "execution_count": 3,
   "metadata": {},
   "outputs": [],
   "source": [
    "guardian_sec = load_headlines_from_journal('the_guardian')\n",
    "dailymail = load_headlines_from_journal('dailymail')\n",
    "bbc_news = load_headlines_from_journal('bbc_news')\n",
    "the_telegraph = load_headlines_from_journal('the_telegraph')"
   ]
  },
  {
   "cell_type": "code",
   "execution_count": 4,
   "metadata": {},
   "outputs": [],
   "source": [
    "# Merge all the sections of the guardian togheter\n",
    "the_guardian = pd.DataFrame(columns=['Title', 'Section'])\n",
    "\n",
    "for column in guardian_sec.columns:\n",
    "    df = pd.DataFrame({'Title': guardian_sec[column], 'Section': column})\n",
    "    the_guardian = the_guardian.append(df, ignore_index=True)"
   ]
  },
  {
   "cell_type": "code",
   "execution_count": 5,
   "metadata": {},
   "outputs": [],
   "source": [
    "# drop null values\n",
    "bbc_news = bbc_news[bbc_news.Title != '']\n",
    "the_guardian = the_guardian[the_guardian.Title != '']"
   ]
  },
  {
   "cell_type": "markdown",
   "metadata": {},
   "source": [
    "Import the __clickbait classifier__ and the __preprocessing tools__."
   ]
  },
  {
   "cell_type": "code",
   "execution_count": 6,
   "metadata": {},
   "outputs": [
    {
     "name": "stdout",
     "output_type": "stream",
     "text": [
      "Dictionary loaded.\n"
     ]
    }
   ],
   "source": [
    "from joblib import load\n",
    "from preprocessing import full_pipeline\n",
    "\n",
    "clf = load('trained_clf_v2.joblib')\n",
    "\n",
    "dailymail_prep = full_pipeline.transform(dailymail['Title'])\n",
    "bbc_news_prep = full_pipeline.transform(bbc_news['Title'])\n",
    "telegraph_prep = full_pipeline.transform(the_telegraph['Title'])\n",
    "guardian_prep = full_pipeline.transform(the_guardian['Title'])"
   ]
  },
  {
   "cell_type": "markdown",
   "metadata": {},
   "source": [
    "### 1. Total Clickbait Ratio"
   ]
  },
  {
   "cell_type": "markdown",
   "metadata": {},
   "source": [
    "Predict the probability of being clickbait"
   ]
  },
  {
   "cell_type": "code",
   "execution_count": 7,
   "metadata": {},
   "outputs": [],
   "source": [
    "dailymail['Probability'] = clf.predict_proba(dailymail_prep)[:,1]\n",
    "bbc_news['Probability'] = clf.predict_proba(bbc_news_prep)[:,1]\n",
    "the_telegraph['Probability'] = clf.predict_proba(telegraph_prep)[:, 1]\n",
    "the_guardian['Probability'] = clf.predict_proba(guardian_prep)[:,1]"
   ]
  },
  {
   "cell_type": "code",
   "execution_count": 8,
   "metadata": {},
   "outputs": [],
   "source": [
    "dfs_list = [the_guardian, dailymail, bbc_news, the_telegraph]\n",
    "tot_headlines = pd.DataFrame(columns=['Title', 'Probability', 'Journal'])\n",
    "\n",
    "for df, name in zip(dfs_list, journals_list):\n",
    "    df['Journal'] = [name]*len(df)\n",
    "    tot_headlines = tot_headlines.append(df[['Title', 'Probability', 'Journal']], ignore_index=True)"
   ]
  },
  {
   "cell_type": "code",
   "execution_count": 9,
   "metadata": {},
   "outputs": [
    {
     "name": "stdout",
     "output_type": "stream",
     "text": [
      "Total Clickbait ratio: 0.22\n"
     ]
    }
   ],
   "source": [
    "n_clickbait = len(tot_headlines[tot_headlines['Probability']>0.5])\n",
    "print('Total Clickbait ratio: {}'.format(np.round(n_clickbait/len(tot_headlines), 2)))"
   ]
  },
  {
   "cell_type": "code",
   "execution_count": 10,
   "metadata": {},
   "outputs": [
    {
     "data": {
      "text/html": [
       "<div>\n",
       "<style scoped>\n",
       "    .dataframe tbody tr th:only-of-type {\n",
       "        vertical-align: middle;\n",
       "    }\n",
       "\n",
       "    .dataframe tbody tr th {\n",
       "        vertical-align: top;\n",
       "    }\n",
       "\n",
       "    .dataframe thead th {\n",
       "        text-align: right;\n",
       "    }\n",
       "</style>\n",
       "<table border=\"1\" class=\"dataframe\">\n",
       "  <thead>\n",
       "    <tr style=\"text-align: right;\">\n",
       "      <th></th>\n",
       "      <th>Title</th>\n",
       "      <th>Probability</th>\n",
       "      <th>Journal</th>\n",
       "    </tr>\n",
       "  </thead>\n",
       "  <tbody>\n",
       "    <tr>\n",
       "      <td>2498</td>\n",
       "      <td>three things you might not know about queen victoria</td>\n",
       "      <td>0.988150</td>\n",
       "      <td>bbc_news</td>\n",
       "    </tr>\n",
       "    <tr>\n",
       "      <td>3439</td>\n",
       "      <td>10 forgotten english villages you'd never thought to visit</td>\n",
       "      <td>0.966571</td>\n",
       "      <td>the_telegraph</td>\n",
       "    </tr>\n",
       "    <tr>\n",
       "      <td>2539</td>\n",
       "      <td>four numbers that explain why trump was cleared</td>\n",
       "      <td>0.956895</td>\n",
       "      <td>bbc_news</td>\n",
       "    </tr>\n",
       "    <tr>\n",
       "      <td>504</td>\n",
       "      <td>10 talking points from the weekend’s action</td>\n",
       "      <td>0.953749</td>\n",
       "      <td>the_guardian</td>\n",
       "    </tr>\n",
       "    <tr>\n",
       "      <td>469</td>\n",
       "      <td>10 talking points from the weekend action</td>\n",
       "      <td>0.953749</td>\n",
       "      <td>the_guardian</td>\n",
       "    </tr>\n",
       "  </tbody>\n",
       "</table>\n",
       "</div>"
      ],
      "text/plain": [
       "                                                           Title  Probability  \\\n",
       "2498  three things you might not know about queen victoria        0.988150      \n",
       "3439  10 forgotten english villages you'd never thought to visit  0.966571      \n",
       "2539  four numbers that explain why trump was cleared             0.956895      \n",
       "504   10 talking points from the weekend’s action                 0.953749      \n",
       "469   10 talking points from the weekend action                   0.953749      \n",
       "\n",
       "            Journal  \n",
       "2498  bbc_news       \n",
       "3439  the_telegraph  \n",
       "2539  bbc_news       \n",
       "504   the_guardian   \n",
       "469   the_guardian   "
      ]
     },
     "execution_count": 10,
     "metadata": {},
     "output_type": "execute_result"
    }
   ],
   "source": [
    "pd.set_option('display.max_colwidth', -1)\n",
    "\n",
    "tot_headlines.sort_values('Probability', ascending=False).head()"
   ]
  },
  {
   "cell_type": "markdown",
   "metadata": {},
   "source": [
    "## 2. Clickbait ratio per journal"
   ]
  },
  {
   "cell_type": "code",
   "execution_count": 11,
   "metadata": {},
   "outputs": [
    {
     "data": {
      "text/plain": [
       "array([18.1, 12.4, 21.8, 33. ])"
      ]
     },
     "execution_count": 11,
     "metadata": {},
     "output_type": "execute_result"
    }
   ],
   "source": [
    "clckbt_pct = np.zeros(4)\n",
    "\n",
    "for index, df in enumerate(dfs_list):\n",
    "    clckbt_pct[index] = 100 * np.round(len(df[df['Probability']>.5])/len(df), 3)\n",
    "    \n",
    "clckbt_pct"
   ]
  },
  {
   "cell_type": "code",
   "execution_count": 12,
   "metadata": {},
   "outputs": [
    {
     "name": "stdout",
     "output_type": "stream",
     "text": [
      "Saving figure clckbt_ratio_uk_j\n"
     ]
    },
    {
     "data": {
      "image/png": "[encoded data removed]",
      "text/plain": [
       "<Figure size 1080x360 with 1 Axes>"
      ]
     },
     "metadata": {
      "needs_background": "light"
     },
     "output_type": "display_data"
    }
   ],
   "source": [
    "%matplotlib inline\n",
    "\n",
    "import matplotlib.pyplot as plt\n",
    "from utilities import save_fig\n",
    "\n",
    "fig = plt.figure(figsize=(15,5))\n",
    "ax = plt.axes()\n",
    "(markers, stemlines, baseline) = ax.stem(journals_list, clckbt_pct, use_line_collection=True)\n",
    "\n",
    "plt.setp(markers, marker='o', markersize=15, markeredgecolor=\"olive\", markeredgewidth=1)\n",
    "plt.setp(stemlines, linestyle=\"-\", color=\"olive\", linewidth=1)\n",
    "\n",
    "# x - axis\n",
    "ax.axes.get_xaxis().set_visible(False)\n",
    "ax.axes.set_xlim((-.5, len(clckbt_pct)))\n",
    "\n",
    "# y - axis\n",
    "y_max = max(clckbt_pct)+10\n",
    "ax.axes.set_ylim((0, y_max))\n",
    "old_ticks = ax.axes.get_yticks()\n",
    "ticks_labels = ['{}%'.format(digit) for digit in old_ticks]\n",
    "ax.axes.set_yticklabels(ticks_labels)\n",
    "ax.axes.set_title('Clickbait ratio')\n",
    "\n",
    "for index, journal in enumerate(journals_list):\n",
    "    ax.annotate(journal, xy=(index, clckbt_pct[index]+2), annotation_clip=False, rotation=30)\n",
    "\n",
    "save_fig('clckbt_ratio_uk_j')\n",
    "plt.show()"
   ]
  },
  {
   "cell_type": "markdown",
   "metadata": {},
   "source": [
    "### 3. The guardian Sections"
   ]
  },
  {
   "cell_type": "code",
   "execution_count": 13,
   "metadata": {},
   "outputs": [
    {
     "name": "stdout",
     "output_type": "stream",
     "text": [
      "Headlines: 0.08\n",
      "Spotlight: 0.35\n",
      "Opinion: 0.33\n",
      "Sport: 0.11\n",
      "From the UK: 0.03\n",
      "Around the world: 0.08\n",
      "Culture: 0.28\n",
      "Lifestyle: 0.43\n",
      "Explore: 0.25\n",
      "In pictures: 0.12\n",
      "Most viewed: 0.18\n"
     ]
    }
   ],
   "source": [
    "sections = guardian_sec.columns\n",
    "clckbt_sec_ratios = np.zeros(len(sections))\n",
    "\n",
    "for index, section in enumerate(sections):\n",
    "    df = the_guardian[the_guardian['Section']==section]\n",
    "    clckbt_sec_ratios[index] = np.round(len(df[df['Probability']>.5])/len(df), 2)\n",
    "    print(section+': {}'.format(clckbt_sec_ratios[index]))"
   ]
  },
  {
   "cell_type": "code",
   "execution_count": 14,
   "metadata": {},
   "outputs": [
    {
     "name": "stdout",
     "output_type": "stream",
     "text": [
      "Saving figure clckbt_ratio_guardian\n"
     ]
    },
    {
     "data": {
      "image/png": "[encoded data removed]",
      "text/plain": [
       "<Figure size 1080x360 with 1 Axes>"
      ]
     },
     "metadata": {
      "needs_background": "light"
     },
     "output_type": "display_data"
    }
   ],
   "source": [
    "fig = plt.figure(figsize=(15,5))\n",
    "ax = plt.axes()\n",
    "(markers, stemlines, baseline) = ax.stem(sections, clckbt_sec_ratios*100, use_line_collection=True)\n",
    "\n",
    "plt.setp(markers, marker='o', markersize=15, markeredgecolor=\"olive\", markeredgewidth=1)\n",
    "plt.setp(stemlines, linestyle=\"-\", color=\"olive\", linewidth=1)\n",
    "\n",
    "# x - axis\n",
    "ax.axes.get_xaxis().set_visible(False)\n",
    "ax.axes.set_xlim((-.5, len(clckbt_sec_ratios)))\n",
    "\n",
    "# y - axis\n",
    "y_max = max(100*clckbt_sec_ratios)+10\n",
    "ax.axes.set_ylim((0, y_max))\n",
    "old_ticks = ax.axes.get_yticks()\n",
    "ticks_labels = ['{}%'.format(digit) for digit in old_ticks]\n",
    "ax.axes.set_yticklabels(ticks_labels)\n",
    "ax.axes.set_title('Clickbait ratio')\n",
    "\n",
    "for index, section in enumerate(sections):\n",
    "    ax.annotate(section, xy=(index, 100*clckbt_sec_ratios[index]+2), annotation_clip=False, rotation=50)\n",
    "\n",
    "save_fig('clckbt_ratio_guardian')\n",
    "plt.show()"
   ]
  }
 ],
 "metadata": {
  "kernelspec": {
   "display_name": "Python 3",
   "language": "python",
   "name": "python3"
  },
  "language_info": {
   "codemirror_mode": {
    "name": "ipython",
    "version": 3
   },
   "file_extension": ".py",
   "mimetype": "text/x-python",
   "name": "python",
   "nbconvert_exporter": "python",
   "pygments_lexer": "ipython3",
   "version": "3.7.3"
  }
 },
 "nbformat": 4,
 "nbformat_minor": 2
}
